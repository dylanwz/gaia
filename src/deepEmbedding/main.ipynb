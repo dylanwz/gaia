{
 "cells": [
  {
   "cell_type": "markdown",
   "metadata": {},
   "source": [
    "See `dataAnalysis/main.ipynb` for the preceeding and successive stages.\n",
    "\n",
    "This file implements an unsupervised deep embedding process for clustering analysis.\n",
    "<br>\n",
    "> A. Constructing an unsupervised deep learning model (e.g. autoencoders).\n",
    "<br>\n",
    "> B. Training the deep embedding model to minimise a reconstruction error.\n",
    "<br>\n",
    "> C. Embedding generation. \n",
    "<br>\n",
    "> D. Clustering in the embedding space."
   ]
  },
  {
   "cell_type": "code",
   "execution_count": null,
   "metadata": {},
   "outputs": [],
   "source": [
    "# Importing NN libraries\n",
    "import tensorflow as tf\n",
    "import numpy as np\n",
    "from tensorflow import keras"
   ]
  },
  {
   "cell_type": "markdown",
   "metadata": {},
   "source": [
    "__A. Constructing An Autoencoder.__\n",
    "<br>\n",
    "Autoencodoers consist of two parts: an `encoder` and a `decoder`.\n",
    "<br>\n",
    "The encoder can be expressed as `f(x) = h`, where `x` denotes the input space and `h` the latent variables."
   ]
  }
 ],
 "metadata": {
  "language_info": {
   "name": "python"
  },
  "orig_nbformat": 4
 },
 "nbformat": 4,
 "nbformat_minor": 2
}
