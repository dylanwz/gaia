{
 "cells": [
  {
   "cell_type": "markdown",
   "metadata": {},
   "source": [
    "Designing a NN comes in two parts:\n",
    "1. Data analysis- organise and process the data into the correct requirements of the input of the NN;\n",
    "2. Training- use data to improve performance of NN.\n",
    "\n",
    "Here, we (first) analyse the data."
   ]
  },
  {
   "cell_type": "code",
   "execution_count": 10,
   "metadata": {},
   "outputs": [],
   "source": [
    "# Importing data analytic libraries\n",
    "import pandas as pd\n",
    "from astropy.table import Table # Astropy works with .fits files\n",
    "import matplotlib.pyplot as plt"
   ]
  },
  {
   "cell_type": "markdown",
   "metadata": {},
   "source": [
    "Process the data using pandas.\n",
    "1. Read the input table with the appropriate format (i.e. fits). Note; this does not cast it as a DataFrame or Series.\n",
    "2. Form a list of the column names of the table.\n",
    "3. Construct a pandas DataFrame column-wise using the column names and the object of each column from the input table."
   ]
  },
  {
   "cell_type": "code",
   "execution_count": 11,
   "metadata": {},
   "outputs": [],
   "source": [
    "class DataAnalysis:\n",
    "    def __init__(self, dataURL):\n",
    "        # Processing the data\n",
    "        gaia = Table.read(dataURL, format=\"fits\")\n",
    "        names = [name for name in gaia.colnames if len(gaia[name].shape) <= 1]\n",
    "        # Flattening done here\n",
    "        self.gaia = gaia[names].to_pandas()\n",
    "\n",
    "    def getData(self, num):\n",
    "        return self.gaia[0:num]\n",
    "\n",
    "    def numRow(self):\n",
    "        return 30\n",
    "    \n",
    "    def numCol(self):\n",
    "        return len(pd.DataFrame(self.gaia, index=None).axes[1])\n",
    "    \n",
    "    # Print data\n",
    "    def printTable(self):\n",
    "        print(self.gaia)\n",
    "\n",
    "    def printPlot(self):\n",
    "        gaia = self.gaia\n",
    "        # Plot data\n",
    "        # Proper Motion + Radial Velocity\n",
    "        plt.scatter(gaia.pmdec, gaia.pmra, marker='x', linewidths=2, c=gaia.radial_velocity, cmap=plt.cm.inferno, s=1)\n",
    "        # Create Labels\n",
    "        plt.xlabel('Proper Motion Declination')\n",
    "        plt.ylabel('Proper Motion Right Ascension')\n",
    "        cbar = plt.colorbar()\n",
    "        cbar.set_label('Radial Velocity')\n",
    "        plt.title(\"Motion of Gaia Stars\")"
   ]
  },
  {
   "cell_type": "code",
   "execution_count": 14,
   "metadata": {},
   "outputs": [],
   "source": [
    "# Show data\n",
    "# analysis = DataAnalysis(\"data/star_data.fits\")\n",
    "# analysis.printTable()\n",
    "# analysis.printPlot()"
   ]
  },
  {
   "cell_type": "markdown",
   "metadata": {},
   "source": [
    "Convert to `.py` after `cd` into `src` via: `jupyter nbconvert --to script 'DataAnalysis.ipynb`"
   ]
  }
 ],
 "metadata": {
  "kernelspec": {
   "display_name": "Python 3",
   "language": "python",
   "name": "python3"
  },
  "language_info": {
   "codemirror_mode": {
    "name": "ipython",
    "version": 3
   },
   "file_extension": ".py",
   "mimetype": "text/x-python",
   "name": "python",
   "nbconvert_exporter": "python",
   "pygments_lexer": "ipython3",
   "version": "3.10.12"
  },
  "orig_nbformat": 4
 },
 "nbformat": 4,
 "nbformat_minor": 2
}
