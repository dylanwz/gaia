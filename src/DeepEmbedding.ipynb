{
 "cells": [
  {
   "cell_type": "markdown",
   "metadata": {},
   "source": [
    "See `dataAnalysis/main.ipynb` for the preceeding and successive stages.\n",
    "\n",
    "This file implements an unsupervised deep embedding process for clustering analysis.\n",
    "<br>\n",
    "> A. Constructing an unsupervised deep learning model (e.g. autoencoders).\n",
    "<br>\n",
    "> B. Training the deep embedding model to minimise a reconstruction error.\n",
    "<br>\n",
    "> C. Embedding generation. \n",
    "<br>\n",
    "> D. Clustering in the embedding space.\n",
    "\n",
    "\n",
    "Pre-requisite knowledge: simple feedforward perceptrons."
   ]
  },
  {
   "cell_type": "code",
   "execution_count": 7,
   "metadata": {},
   "outputs": [],
   "source": [
    "# Importing NN libraries\n",
    "import tensorflow as tf\n",
    "from tensorflow import keras\n",
    "import numpy as np"
   ]
  },
  {
   "cell_type": "markdown",
   "metadata": {},
   "source": [
    "__A. Constructing An Autoencoder.__\n",
    "<br>\n",
    "Autoencodoers consist of two parts: an `encoder` and a `decoder`.\n",
    "<br>\n",
    "The autoencoder can be expressed as\n",
    "\n",
    "> `L(x,g(f(x))`,\n",
    "\n",
    "for some input space `x` and non-linear encoder and decoder functions `f,` `g`. Note the lower-dimensional latent space is often denoted `f(x) = h`."
   ]
  },
  {
   "cell_type": "code",
   "execution_count": 8,
   "metadata": {},
   "outputs": [],
   "source": [
    "from DataAnalysis import DataAnalysis\n",
    "\n",
    "class undercompleteAE():\n",
    "    def __init__(self):\n",
    "        data = DataAnalysis(\"data/star_data.fits\")\n",
    "        # Take the parameters from dataAnalysis, i.e. numRow amount of numCol-dimensional column vector. This is the input space.\n",
    "        inputLayer = keras.Input(shape=(data.numRow(),data.numCol(),1), name=\"rawInput\")\n",
    "        encoderInputLayer = keras.layers.Flatten(name=\"encoderIn\")(inputLayer)\n",
    "        # Compress this input space into a lower-dimensional latent space, i.e. h.\n",
    "        encoderOutputLayer = keras.layers.Dense((data.numRow()*data.numCol()/8), activation=\"relu\", name=\"bottleneckAsOut\")(encoderInputLayer)\n",
    "\n",
    "        # Save the encoder\n",
    "        self.encoder = keras.Model(inputLayer, encoderOutputLayer, name=\"encoder\")\n",
    "\n",
    "        # Similarly for the decoder, we take the latent space h and (try to) reconstruct to the input space x\n",
    "        decoderInputLayer = keras.layers.Dense((data.numRow()*data.numCol()/8), activation=\"relu\",name=\"bottleneckAsIn\")(encoderOutputLayer)\n",
    "        decoderOutputLayer = keras.layers.Dense(data.numRow()*data.numCol(), activation=\"relu\",name=\"decoderOut\")(decoderInputLayer)\n",
    "        # Hence giving L(x, g(f(x)))\n",
    "        outputLayer = keras.layers.Reshape((data.numRow(),data.numCol(),1), name=\"reconstruction\")(decoderOutputLayer)\n",
    "\n",
    "        # Model class using Keras' Model class\n",
    "        self.autoencoder = keras.Model(inputLayer, outputLayer, name=\"autoencoder\")\n",
    "\n",
    "        opt = keras.optimizers.Adam(learning_rate=0.001)        \n",
    "        # self.autoencoder.compile(opt, loss=\"mse\")\n",
    "        # self.autoencoder.fit(data.getData(300), data.getData(300), epochs=3, batch_size=3, validation_split=0.1)\n",
    "\n",
    "    def summary(self):\n",
    "        self.autoencoder.summary()\n",
    "\n",
    "    def getLatentRep():\n",
    "        return 3\n"
   ]
  },
  {
   "cell_type": "code",
   "execution_count": 9,
   "metadata": {},
   "outputs": [
    {
     "name": "stdout",
     "output_type": "stream",
     "text": [
      "Epoch 1/3\n"
     ]
    },
    {
     "ename": "ValueError",
     "evalue": "in user code:\n\n    File \"/home/birds/.local/lib/python3.10/site-packages/keras/src/engine/training.py\", line 1338, in train_function  *\n        return step_function(self, iterator)\n    File \"/home/birds/.local/lib/python3.10/site-packages/keras/src/engine/training.py\", line 1322, in step_function  **\n        outputs = model.distribute_strategy.run(run_step, args=(data,))\n    File \"/home/birds/.local/lib/python3.10/site-packages/keras/src/engine/training.py\", line 1303, in run_step  **\n        outputs = model.train_step(data)\n    File \"/home/birds/.local/lib/python3.10/site-packages/keras/src/engine/training.py\", line 1080, in train_step\n        y_pred = self(x, training=True)\n    File \"/home/birds/.local/lib/python3.10/site-packages/keras/src/utils/traceback_utils.py\", line 70, in error_handler\n        raise e.with_traceback(filtered_tb) from None\n    File \"/home/birds/.local/lib/python3.10/site-packages/keras/src/engine/input_spec.py\", line 298, in assert_input_compatibility\n        raise ValueError(\n\n    ValueError: Input 0 of layer \"autoencoder\" is incompatible with the layer: expected shape=(None, 30, 23, 1), found shape=(3, 23)\n",
     "output_type": "error",
     "traceback": [
      "\u001b[0;31m---------------------------------------------------------------------------\u001b[0m",
      "\u001b[0;31mValueError\u001b[0m                                Traceback (most recent call last)",
      "\u001b[1;32m/home/birds/cs_stuff/gaia/src/DeepEmbedding.ipynb Cell 5\u001b[0m line \u001b[0;36m1\n\u001b[0;32m----> <a href='vscode-notebook-cell://wsl%2Bubuntu-22.04/home/birds/cs_stuff/gaia/src/DeepEmbedding.ipynb#W4sdnNjb2RlLXJlbW90ZQ%3D%3D?line=0'>1</a>\u001b[0m e \u001b[39m=\u001b[39m undercompleteAE()\n\u001b[1;32m      <a href='vscode-notebook-cell://wsl%2Bubuntu-22.04/home/birds/cs_stuff/gaia/src/DeepEmbedding.ipynb#W4sdnNjb2RlLXJlbW90ZQ%3D%3D?line=1'>2</a>\u001b[0m e\u001b[39m.\u001b[39msummary()\n",
      "\u001b[1;32m/home/birds/cs_stuff/gaia/src/DeepEmbedding.ipynb Cell 5\u001b[0m line \u001b[0;36m2\n\u001b[1;32m     <a href='vscode-notebook-cell://wsl%2Bubuntu-22.04/home/birds/cs_stuff/gaia/src/DeepEmbedding.ipynb#W4sdnNjb2RlLXJlbW90ZQ%3D%3D?line=23'>24</a>\u001b[0m opt \u001b[39m=\u001b[39m keras\u001b[39m.\u001b[39moptimizers\u001b[39m.\u001b[39mAdam(learning_rate\u001b[39m=\u001b[39m\u001b[39m0.001\u001b[39m)        \n\u001b[1;32m     <a href='vscode-notebook-cell://wsl%2Bubuntu-22.04/home/birds/cs_stuff/gaia/src/DeepEmbedding.ipynb#W4sdnNjb2RlLXJlbW90ZQ%3D%3D?line=24'>25</a>\u001b[0m \u001b[39mself\u001b[39m\u001b[39m.\u001b[39mautoencoder\u001b[39m.\u001b[39mcompile(opt, loss\u001b[39m=\u001b[39m\u001b[39m\"\u001b[39m\u001b[39mmse\u001b[39m\u001b[39m\"\u001b[39m)\n\u001b[0;32m---> <a href='vscode-notebook-cell://wsl%2Bubuntu-22.04/home/birds/cs_stuff/gaia/src/DeepEmbedding.ipynb#W4sdnNjb2RlLXJlbW90ZQ%3D%3D?line=25'>26</a>\u001b[0m \u001b[39mself\u001b[39;49m\u001b[39m.\u001b[39;49mautoencoder\u001b[39m.\u001b[39;49mfit(data\u001b[39m.\u001b[39;49mgetData(\u001b[39m300\u001b[39;49m), data\u001b[39m.\u001b[39;49mgetData(\u001b[39m300\u001b[39;49m), epochs\u001b[39m=\u001b[39;49m\u001b[39m3\u001b[39;49m, batch_size\u001b[39m=\u001b[39;49m\u001b[39m3\u001b[39;49m, validation_split\u001b[39m=\u001b[39;49m\u001b[39m0.1\u001b[39;49m)\n",
      "File \u001b[0;32m~/.local/lib/python3.10/site-packages/keras/src/utils/traceback_utils.py:70\u001b[0m, in \u001b[0;36mfilter_traceback.<locals>.error_handler\u001b[0;34m(*args, **kwargs)\u001b[0m\n\u001b[1;32m     67\u001b[0m     filtered_tb \u001b[39m=\u001b[39m _process_traceback_frames(e\u001b[39m.\u001b[39m__traceback__)\n\u001b[1;32m     68\u001b[0m     \u001b[39m# To get the full stack trace, call:\u001b[39;00m\n\u001b[1;32m     69\u001b[0m     \u001b[39m# `tf.debugging.disable_traceback_filtering()`\u001b[39;00m\n\u001b[0;32m---> 70\u001b[0m     \u001b[39mraise\u001b[39;00m e\u001b[39m.\u001b[39mwith_traceback(filtered_tb) \u001b[39mfrom\u001b[39;00m \u001b[39mNone\u001b[39;00m\n\u001b[1;32m     71\u001b[0m \u001b[39mfinally\u001b[39;00m:\n\u001b[1;32m     72\u001b[0m     \u001b[39mdel\u001b[39;00m filtered_tb\n",
      "File \u001b[0;32m/tmp/__autograph_generated_filecz1qh57t.py:15\u001b[0m, in \u001b[0;36mouter_factory.<locals>.inner_factory.<locals>.tf__train_function\u001b[0;34m(iterator)\u001b[0m\n\u001b[1;32m     13\u001b[0m \u001b[39mtry\u001b[39;00m:\n\u001b[1;32m     14\u001b[0m     do_return \u001b[39m=\u001b[39m \u001b[39mTrue\u001b[39;00m\n\u001b[0;32m---> 15\u001b[0m     retval_ \u001b[39m=\u001b[39m ag__\u001b[39m.\u001b[39mconverted_call(ag__\u001b[39m.\u001b[39mld(step_function), (ag__\u001b[39m.\u001b[39mld(\u001b[39mself\u001b[39m), ag__\u001b[39m.\u001b[39mld(iterator)), \u001b[39mNone\u001b[39;00m, fscope)\n\u001b[1;32m     16\u001b[0m \u001b[39mexcept\u001b[39;00m:\n\u001b[1;32m     17\u001b[0m     do_return \u001b[39m=\u001b[39m \u001b[39mFalse\u001b[39;00m\n",
      "\u001b[0;31mValueError\u001b[0m: in user code:\n\n    File \"/home/birds/.local/lib/python3.10/site-packages/keras/src/engine/training.py\", line 1338, in train_function  *\n        return step_function(self, iterator)\n    File \"/home/birds/.local/lib/python3.10/site-packages/keras/src/engine/training.py\", line 1322, in step_function  **\n        outputs = model.distribute_strategy.run(run_step, args=(data,))\n    File \"/home/birds/.local/lib/python3.10/site-packages/keras/src/engine/training.py\", line 1303, in run_step  **\n        outputs = model.train_step(data)\n    File \"/home/birds/.local/lib/python3.10/site-packages/keras/src/engine/training.py\", line 1080, in train_step\n        y_pred = self(x, training=True)\n    File \"/home/birds/.local/lib/python3.10/site-packages/keras/src/utils/traceback_utils.py\", line 70, in error_handler\n        raise e.with_traceback(filtered_tb) from None\n    File \"/home/birds/.local/lib/python3.10/site-packages/keras/src/engine/input_spec.py\", line 298, in assert_input_compatibility\n        raise ValueError(\n\n    ValueError: Input 0 of layer \"autoencoder\" is incompatible with the layer: expected shape=(None, 30, 23, 1), found shape=(3, 23)\n"
     ]
    }
   ],
   "source": [
    "e = undercompleteAE()\n",
    "e.summary()"
   ]
  }
 ],
 "metadata": {
  "kernelspec": {
   "display_name": "Python 3",
   "language": "python",
   "name": "python3"
  },
  "language_info": {
   "codemirror_mode": {
    "name": "ipython",
    "version": 3
   },
   "file_extension": ".py",
   "mimetype": "text/x-python",
   "name": "python",
   "nbconvert_exporter": "python",
   "pygments_lexer": "ipython3",
   "version": "3.10.12"
  },
  "orig_nbformat": 4
 },
 "nbformat": 4,
 "nbformat_minor": 2
}
